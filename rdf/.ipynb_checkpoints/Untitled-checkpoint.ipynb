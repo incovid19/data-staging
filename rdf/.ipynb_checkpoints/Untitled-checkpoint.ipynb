{
 "cells": [
  {
   "cell_type": "code",
   "execution_count": 1,
   "id": "61086075-2347-4735-bcd3-949bcbf9e0e7",
   "metadata": {},
   "outputs": [],
   "source": [
    "import pandas as pd\n",
    "from tqdm import tqdm\n",
    "from datetime import datetime,timedelta\n",
    "import inflect\n",
    "from tqdm import tqdm"
   ]
  },
  {
   "cell_type": "code",
   "execution_count": 2,
   "id": "f9471ca9-9bd9-4699-82ab-3b929de392bc",
   "metadata": {},
   "outputs": [],
   "source": [
    "def date_range(start, end):\n",
    "    r = (end+timedelta(days=1)-start).days\n",
    "    return [start+timedelta(days=i) for i in range(r)]"
   ]
  },
  {
   "cell_type": "code",
   "execution_count": 3,
   "id": "cd06d3da-25a8-45ba-b896-c1cca35bfc85",
   "metadata": {},
   "outputs": [],
   "source": [
    "start_date = \"2021-11-01\"\n",
    "end_date = \"2022-02-21\"\n",
    "end = datetime.strptime(end_date, '%Y-%m-%d')\n",
    "start = datetime.strptime(start_date, '%Y-%m-%d')\n",
    "dateList = date_range(start, end)"
   ]
  },
  {
   "cell_type": "code",
   "execution_count": 4,
   "id": "34b24cf9-7559-4c5c-8163-ab9ff499492a",
   "metadata": {},
   "outputs": [],
   "source": [
    "sources = pd.read_csv(\"sources.csv\")"
   ]
  },
  {
   "cell_type": "code",
   "execution_count": 5,
   "id": "267e6931-fb72-440c-a0d2-f1bc662cd4e5",
   "metadata": {},
   "outputs": [],
   "source": [
    "sources['Parameters'] = sources.Parameters.apply(lambda x: x[1:-1].split(','))"
   ]
  },
  {
   "cell_type": "code",
   "execution_count": 6,
   "id": "397ad7ff-a905-4447-a7bd-9e97fede53ab",
   "metadata": {},
   "outputs": [],
   "source": [
    "# sources.head()"
   ]
  },
  {
   "cell_type": "code",
   "execution_count": 7,
   "id": "b2ada9e0-179b-492b-a82a-28665516cf67",
   "metadata": {},
   "outputs": [],
   "source": [
    "Date = []\n",
    "State = []\n",
    "Parameter = []\n",
    "Source = []\n",
    "ArtifactURI = []\n",
    "ExtractTime = []\n",
    "ArtifactFileFormat = []\n",
    "# params = [\"Confirmed\",\"Recovered\",\"Deceased\",\"Others/Migrated\",\"Tested\",\"Vaccination1\",\"Vaccination2\",\"Vaccination3\"]"
   ]
  },
  {
   "cell_type": "code",
   "execution_count": 8,
   "id": "d6047f31-c8b0-4c30-a962-20e4aa216284",
   "metadata": {},
   "outputs": [],
   "source": [
    "fs = pd.read_csv(\"fileStatus.csv\")"
   ]
  },
  {
   "cell_type": "code",
   "execution_count": 10,
   "id": "5ba4d4e5-e0c0-4217-ae79-d2fbdc981550",
   "metadata": {},
   "outputs": [],
   "source": [
    "# fs[(fs[\"Date\"] == \"2021-11-01\") & (fs[\"State\"] == \"TT\")][\"myGovFlag\"].item()"
   ]
  },
  {
   "cell_type": "code",
   "execution_count": 11,
   "id": "5515ad7a-b0e3-4c2a-83ed-0038e0302aa8",
   "metadata": {},
   "outputs": [
    {
     "name": "stderr",
     "output_type": "stream",
     "text": [
      "100%|██████████| 113/113 [02:59<00:00,  1.59s/it]\n"
     ]
    }
   ],
   "source": [
    "for date in tqdm(dateList):\n",
    "    for idx in sources.index:\n",
    "        p = inflect.engine()\n",
    "        for parameter in sources[\"Parameters\"][idx]:\n",
    "            Date.append(str(date.date()))\n",
    "            State.append(sources[\"StateName\"][idx])\n",
    "            Parameter.append(parameter)\n",
    "            if sources[\"StateDataSourceType\"][idx] == \"Image(Twitter)\":\n",
    "                ArtifactURI.append(\"https://github.com/incovid19/INPUT/\"+str(date.date())+\"/\"+sources[\"StateName\"][idx]+\".jpeg\")\n",
    "            else:\n",
    "                ArtifactURI.append(\"https://github.com/incovid19/INPUT/\"+str(date.date())+\"/\"+sources[\"StateName\"][idx]+\".\"+sources[\"StateDataSourceType\"][idx])\n",
    "            if parameter in [\"Confirmed\",\"Recovered\",\"Deceased\",\"Others/Migrated\",\"Tested\"]:\n",
    "                try:\n",
    "                    if fs[(fs[\"Date\"] == str(date.date())) & (fs[\"State\"] == sources[\"StateCode\"][idx])][\"myGovFlag\"].item() == \"No\":\n",
    "                        if sources[\"StateDataSourceType\"][idx] == \"pdf\":\n",
    "                            if sources[\"StateCode\"][idx] == \"PB\":\n",
    "                                Source.append('https://nhm.punjab.gov.in/advertisements/Media_Bulletin/Media%20Bulletin%20COVID-19%20' + date.strftime(\"%d-%m-%Y\") + '.pdf')\n",
    "                            elif sources[\"StateCode\"][idx] == \"ML\":\n",
    "                                Source.append('https://meghalaya.gov.in/sites/default/files/announcement/Daily_Covid_' + date.strftime(\"%d_%b_%Y.pdf\"))\n",
    "                            elif sources[\"StateCode\"][idx] == \"UT\":\n",
    "                                Source.append('https://health.uk.gov.in/files/' + date.strftime(\"%Y.%m.%d_Health_Bulletin.pdf\"))\n",
    "                            elif sources[\"StateCode\"][idx] == \"WB\":\n",
    "                                url = 'https://www.wbhealth.gov.in/uploaded_files/corona/WB_DHFW_Bulletin_' + p.ordinal(\n",
    "                                        date.day).upper() + '_' + date.strftime(\"%b\").upper() + '_REPORT_FINAL.pdf'\n",
    "                                Source.append(url)\n",
    "                            elif sources[\"StateCode\"][idx] == \"TN\":\n",
    "                                url = 'https://stopcorona.tn.gov.in/wp-content/uploads/2020/03/Media-Bulletin-' + date.strftime(\n",
    "                                        \"%d-%m-%y\") + '-COVID-19.pdf'\n",
    "                                Source.append(url)\n",
    "                            elif sources[\"StateCode\"][idx] == \"HR\":\n",
    "                                url = 'http://nhmharyana.gov.in/WriteReadData/userfiles/file/CoronaVirus/Daily%20Bulletin%20of%20COVID%2019%20as%20on%20' + date.strftime(\n",
    "                                        \"%d-%m-%Y\") + '.pdf'\n",
    "                                Source.append(url)\n",
    "                        else:\n",
    "                            Source.append(sources[\"StateDataURL\"][idx])\n",
    "                    else:\n",
    "                        Source.append(\"https://www.mygov.in/covid-19\")\n",
    "                except:\n",
    "                    Source.append(\"https://www.mygov.in/covid-19\")\n",
    "            else:\n",
    "                Source.append(\"https://api.cowin.gov.in/api/v1/reports/v2/getPublicReports\")\n",
    "            df = pd.read_csv(\"../RAWCSV/\"+str(date.date())+\"/\"+sources[\"StateCode\"][idx]+\"_final.csv\")\n",
    "            ExtractTime.append(df[\"last_updated\"][0])\n",
    "            ArtifactFileFormat.append(sources[\"StateDataSourceType\"][idx])"
   ]
  },
  {
   "cell_type": "code",
   "execution_count": 12,
   "id": "373fb843-2eec-414a-b610-3d81cc496783",
   "metadata": {},
   "outputs": [],
   "source": [
    "df_rdf = pd.DataFrame(list(zip(Date,State,Parameter,Source,ArtifactURI,ExtractTime,ArtifactFileFormat)))"
   ]
  },
  {
   "cell_type": "code",
   "execution_count": 13,
   "id": "b0a41477-8f01-4862-997e-e0259a56309f",
   "metadata": {},
   "outputs": [],
   "source": [
    "df_rdf = df_rdf.rename(columns={0:\"Date\",1:\"State\",2:\"Parameter\",3:\"Source\",4:\"ArtifactURI\",5:\"ExtractTime\",6:\"ArtifactFileFormat\"})"
   ]
  },
  {
   "cell_type": "code",
   "execution_count": 14,
   "id": "702be1cc-9062-4f49-84c7-10cf761db5b9",
   "metadata": {},
   "outputs": [],
   "source": [
    "df_rdf.to_csv(\"states_rdf.csv\")"
   ]
  },
  {
   "cell_type": "code",
   "execution_count": null,
   "id": "1484faed-1600-471f-9d44-386c3332eed3",
   "metadata": {},
   "outputs": [],
   "source": []
  }
 ],
 "metadata": {
  "kernelspec": {
   "display_name": "Python 3",
   "language": "python",
   "name": "python3"
  },
  "language_info": {
   "codemirror_mode": {
    "name": "ipython",
    "version": 3
   },
   "file_extension": ".py",
   "mimetype": "text/x-python",
   "name": "python",
   "nbconvert_exporter": "python",
   "pygments_lexer": "ipython3",
   "version": "3.6.9"
  }
 },
 "nbformat": 4,
 "nbformat_minor": 5
}
